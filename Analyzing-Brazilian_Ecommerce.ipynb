{
 "cells": [
  {
   "cell_type": "markdown",
   "metadata": {},
   "source": [
    "# Brazilian E-Commerce Public Dataset by Olist\n",
    "\n",
    "This noteebok works with a Brazilian ecommerce public dataset of orders made at Olist Store. The dataset has information of 100k orders from 2016 to 2018 made at multiple marketplaces in Brazil. Its features allows viewing an order from multiple dimensions: from order status, price, payment and freight performance to customer location, product attributes and finally reviews written by customers. \n",
    "\n",
    "This is real commercial data, it has been anonymised, and references to the companies and partners in the review text have been replaced with the names of Game of Thrones great houses.\n",
    "\n",
    "The analysis is a compilation of differents notebooks and tries to be a tool for learning; thanks to the different people who worked on original notebooks. The reference it will be find at the below of the notebook"
   ]
  },
  {
   "cell_type": "markdown",
   "metadata": {},
   "source": [
    "### 1.- Libraries"
   ]
  },
  {
   "cell_type": "code",
   "execution_count": 2,
   "metadata": {},
   "outputs": [
    {
     "name": "stderr",
     "output_type": "stream",
     "text": [
      "c:\\Users\\Yira\\Anaconda\\lib\\site-packages\\scipy\\__init__.py:146: UserWarning: A NumPy version >=1.16.5 and <1.23.0 is required for this version of SciPy (detected version 1.23.1\n",
      "  warnings.warn(f\"A NumPy version >={np_minversion} and <{np_maxversion}\"\n"
     ]
    }
   ],
   "source": [
    "#standard libraries\n",
    "import pandas as pd\n",
    "import numpy as np\n",
    "import seaborn as sns\n",
    "import matplotlib.pyplot as plt\n",
    "import datetime\n",
    "from scipy import stats\n",
    "from sklearn.cluster import KMeans\n",
    "from sklearn.preprocessing import StandardScaler\n",
    "from shapely.geometry import Point\n",
    "import geopandas as gpd\n",
    "from geopandas import GeoDataFrame\n",
    "\n",
    "#Utilities\n",
    "import viz_utils\n",
    "from viz_utils import *\n"
   ]
  },
  {
   "cell_type": "markdown",
   "metadata": {},
   "source": [
    "### 2.- Reading the data"
   ]
  },
  {
   "cell_type": "code",
   "execution_count": 3,
   "metadata": {},
   "outputs": [],
   "source": [
    "#reading all the files\n",
    "olist_customer=pd.read_csv(\"Datasets//olist_customers_dataset.csv\")\n",
    "olist_geolocation=pd.read_csv(\"Datasets//olist_geolocation_dataset.csv\")\n",
    "olist_orders = pd.read_csv(\"Datasets//olist_orders_dataset.csv\")\n",
    "olist_order_items = pd.read_csv(\"Datasets//olist_order_items_dataset.csv\")\n",
    "olist_order_payments = pd.read_csv(\"Datasets//olist_order_payments_dataset.csv\")\n",
    "olist_order_reviews = pd.read_csv(\"Datasets//olist_order_reviews_dataset.csv\")\n",
    "olist_products = pd.read_csv(\"Datasets//olist_products_dataset.csv\")\n",
    "olist_sellers = pd.read_csv(\"Datasets//olist_sellers_dataset.csv\")\n",
    "olist_products_translation=pd.read_csv(\"Datasets//product_category_name_translation.csv\")\n",
    "geo=pd.read_csv(\"Datasets//olist_geolocation_dataset.csv\")"
   ]
  },
  {
   "cell_type": "markdown",
   "metadata": {},
   "source": [
    "#### 2.1 Overview from the data\n",
    "Before creating a unique dataset with useful information, let's look at the shape of each dataset, so we can be more assertive on how to use joining statements"
   ]
  },
  {
   "cell_type": "code",
   "execution_count": 4,
   "metadata": {},
   "outputs": [
    {
     "data": {
      "text/html": [
       "<style type=\"text/css\">\n",
       "#T_d36b0_row0_col1, #T_d36b0_row2_col1, #T_d36b0_row5_col1 {\n",
       "  background-color: #f1ebf4;\n",
       "  color: #000000;\n",
       "}\n",
       "#T_d36b0_row0_col2, #T_d36b0_row1_col2, #T_d36b0_row4_col2 {\n",
       "  background-color: #dbdaeb;\n",
       "  color: #000000;\n",
       "}\n",
       "#T_d36b0_row0_col3, #T_d36b0_row0_col4, #T_d36b0_row1_col3, #T_d36b0_row1_col4, #T_d36b0_row3_col3, #T_d36b0_row3_col4, #T_d36b0_row4_col3, #T_d36b0_row4_col4, #T_d36b0_row7_col1, #T_d36b0_row7_col2, #T_d36b0_row7_col3, #T_d36b0_row7_col4 {\n",
       "  background-color: #fff7fb;\n",
       "  color: #000000;\n",
       "}\n",
       "#T_d36b0_row1_col1, #T_d36b0_row5_col3, #T_d36b0_row6_col2, #T_d36b0_row6_col4 {\n",
       "  background-color: #023858;\n",
       "  color: #f1f1f1;\n",
       "}\n",
       "#T_d36b0_row2_col2 {\n",
       "  background-color: #0567a2;\n",
       "  color: #f1f1f1;\n",
       "}\n",
       "#T_d36b0_row2_col3 {\n",
       "  background-color: #faf3f9;\n",
       "  color: #000000;\n",
       "}\n",
       "#T_d36b0_row2_col4 {\n",
       "  background-color: #a5bddb;\n",
       "  color: #000000;\n",
       "}\n",
       "#T_d36b0_row3_col1 {\n",
       "  background-color: #eee9f3;\n",
       "  color: #000000;\n",
       "}\n",
       "#T_d36b0_row3_col2, #T_d36b0_row5_col2 {\n",
       "  background-color: #4295c3;\n",
       "  color: #f1f1f1;\n",
       "}\n",
       "#T_d36b0_row4_col1 {\n",
       "  background-color: #f0eaf4;\n",
       "  color: #000000;\n",
       "}\n",
       "#T_d36b0_row5_col4 {\n",
       "  background-color: #d0d1e6;\n",
       "  color: #000000;\n",
       "}\n",
       "#T_d36b0_row6_col1 {\n",
       "  background-color: #fbf3f9;\n",
       "  color: #000000;\n",
       "}\n",
       "#T_d36b0_row6_col3 {\n",
       "  background-color: #fdf5fa;\n",
       "  color: #000000;\n",
       "}\n",
       "</style>\n",
       "<table id=\"T_d36b0\">\n",
       "  <thead>\n",
       "    <tr>\n",
       "      <th class=\"blank level0\" >&nbsp;</th>\n",
       "      <th id=\"T_d36b0_level0_col0\" class=\"col_heading level0 col0\" >dataset</th>\n",
       "      <th id=\"T_d36b0_level0_col1\" class=\"col_heading level0 col1\" >n_rows</th>\n",
       "      <th id=\"T_d36b0_level0_col2\" class=\"col_heading level0 col2\" >n_cols</th>\n",
       "      <th id=\"T_d36b0_level0_col3\" class=\"col_heading level0 col3\" >null_amount</th>\n",
       "      <th id=\"T_d36b0_level0_col4\" class=\"col_heading level0 col4\" >qty_null_columns</th>\n",
       "      <th id=\"T_d36b0_level0_col5\" class=\"col_heading level0 col5\" >null_columns</th>\n",
       "    </tr>\n",
       "  </thead>\n",
       "  <tbody>\n",
       "    <tr>\n",
       "      <th id=\"T_d36b0_level0_row0\" class=\"row_heading level0 row0\" >0</th>\n",
       "      <td id=\"T_d36b0_row0_col0\" class=\"data row0 col0\" >olist_customer</td>\n",
       "      <td id=\"T_d36b0_row0_col1\" class=\"data row0 col1\" >99441</td>\n",
       "      <td id=\"T_d36b0_row0_col2\" class=\"data row0 col2\" >5</td>\n",
       "      <td id=\"T_d36b0_row0_col3\" class=\"data row0 col3\" >0</td>\n",
       "      <td id=\"T_d36b0_row0_col4\" class=\"data row0 col4\" >0</td>\n",
       "      <td id=\"T_d36b0_row0_col5\" class=\"data row0 col5\" ></td>\n",
       "    </tr>\n",
       "    <tr>\n",
       "      <th id=\"T_d36b0_level0_row1\" class=\"row_heading level0 row1\" >1</th>\n",
       "      <td id=\"T_d36b0_row1_col0\" class=\"data row1 col0\" >olist_geolocation</td>\n",
       "      <td id=\"T_d36b0_row1_col1\" class=\"data row1 col1\" >1000163</td>\n",
       "      <td id=\"T_d36b0_row1_col2\" class=\"data row1 col2\" >5</td>\n",
       "      <td id=\"T_d36b0_row1_col3\" class=\"data row1 col3\" >0</td>\n",
       "      <td id=\"T_d36b0_row1_col4\" class=\"data row1 col4\" >0</td>\n",
       "      <td id=\"T_d36b0_row1_col5\" class=\"data row1 col5\" ></td>\n",
       "    </tr>\n",
       "    <tr>\n",
       "      <th id=\"T_d36b0_level0_row2\" class=\"row_heading level0 row2\" >2</th>\n",
       "      <td id=\"T_d36b0_row2_col0\" class=\"data row2 col0\" >olist_orders</td>\n",
       "      <td id=\"T_d36b0_row2_col1\" class=\"data row2 col1\" >99441</td>\n",
       "      <td id=\"T_d36b0_row2_col2\" class=\"data row2 col2\" >8</td>\n",
       "      <td id=\"T_d36b0_row2_col3\" class=\"data row2 col3\" >4908</td>\n",
       "      <td id=\"T_d36b0_row2_col4\" class=\"data row2 col4\" >3</td>\n",
       "      <td id=\"T_d36b0_row2_col5\" class=\"data row2 col5\" >order_approved_at, order_delivered_carrier_date, order_delivered_customer_date</td>\n",
       "    </tr>\n",
       "    <tr>\n",
       "      <th id=\"T_d36b0_level0_row3\" class=\"row_heading level0 row3\" >3</th>\n",
       "      <td id=\"T_d36b0_row3_col0\" class=\"data row3 col0\" >olist_order_items</td>\n",
       "      <td id=\"T_d36b0_row3_col1\" class=\"data row3 col1\" >112650</td>\n",
       "      <td id=\"T_d36b0_row3_col2\" class=\"data row3 col2\" >7</td>\n",
       "      <td id=\"T_d36b0_row3_col3\" class=\"data row3 col3\" >0</td>\n",
       "      <td id=\"T_d36b0_row3_col4\" class=\"data row3 col4\" >0</td>\n",
       "      <td id=\"T_d36b0_row3_col5\" class=\"data row3 col5\" ></td>\n",
       "    </tr>\n",
       "    <tr>\n",
       "      <th id=\"T_d36b0_level0_row4\" class=\"row_heading level0 row4\" >4</th>\n",
       "      <td id=\"T_d36b0_row4_col0\" class=\"data row4 col0\" >olist_order_payments</td>\n",
       "      <td id=\"T_d36b0_row4_col1\" class=\"data row4 col1\" >103886</td>\n",
       "      <td id=\"T_d36b0_row4_col2\" class=\"data row4 col2\" >5</td>\n",
       "      <td id=\"T_d36b0_row4_col3\" class=\"data row4 col3\" >0</td>\n",
       "      <td id=\"T_d36b0_row4_col4\" class=\"data row4 col4\" >0</td>\n",
       "      <td id=\"T_d36b0_row4_col5\" class=\"data row4 col5\" ></td>\n",
       "    </tr>\n",
       "    <tr>\n",
       "      <th id=\"T_d36b0_level0_row5\" class=\"row_heading level0 row5\" >5</th>\n",
       "      <td id=\"T_d36b0_row5_col0\" class=\"data row5 col0\" >olist_order_reviews</td>\n",
       "      <td id=\"T_d36b0_row5_col1\" class=\"data row5 col1\" >99224</td>\n",
       "      <td id=\"T_d36b0_row5_col2\" class=\"data row5 col2\" >7</td>\n",
       "      <td id=\"T_d36b0_row5_col3\" class=\"data row5 col3\" >145903</td>\n",
       "      <td id=\"T_d36b0_row5_col4\" class=\"data row5 col4\" >2</td>\n",
       "      <td id=\"T_d36b0_row5_col5\" class=\"data row5 col5\" >review_comment_title, review_comment_message</td>\n",
       "    </tr>\n",
       "    <tr>\n",
       "      <th id=\"T_d36b0_level0_row6\" class=\"row_heading level0 row6\" >6</th>\n",
       "      <td id=\"T_d36b0_row6_col0\" class=\"data row6 col0\" >olist_products</td>\n",
       "      <td id=\"T_d36b0_row6_col1\" class=\"data row6 col1\" >32951</td>\n",
       "      <td id=\"T_d36b0_row6_col2\" class=\"data row6 col2\" >9</td>\n",
       "      <td id=\"T_d36b0_row6_col3\" class=\"data row6 col3\" >2448</td>\n",
       "      <td id=\"T_d36b0_row6_col4\" class=\"data row6 col4\" >8</td>\n",
       "      <td id=\"T_d36b0_row6_col5\" class=\"data row6 col5\" >product_category_name, product_name_lenght, product_description_lenght, product_photos_qty, product_weight_g, product_length_cm, product_height_cm, product_width_cm</td>\n",
       "    </tr>\n",
       "    <tr>\n",
       "      <th id=\"T_d36b0_level0_row7\" class=\"row_heading level0 row7\" >7</th>\n",
       "      <td id=\"T_d36b0_row7_col0\" class=\"data row7 col0\" >olist_sellers</td>\n",
       "      <td id=\"T_d36b0_row7_col1\" class=\"data row7 col1\" >3095</td>\n",
       "      <td id=\"T_d36b0_row7_col2\" class=\"data row7 col2\" >4</td>\n",
       "      <td id=\"T_d36b0_row7_col3\" class=\"data row7 col3\" >0</td>\n",
       "      <td id=\"T_d36b0_row7_col4\" class=\"data row7 col4\" >0</td>\n",
       "      <td id=\"T_d36b0_row7_col5\" class=\"data row7 col5\" ></td>\n",
       "    </tr>\n",
       "  </tbody>\n",
       "</table>\n"
      ],
      "text/plain": [
       "<pandas.io.formats.style.Styler at 0x1d79c749430>"
      ]
     },
     "execution_count": 4,
     "metadata": {},
     "output_type": "execute_result"
    }
   ],
   "source": [
    "# Collections for each dataset\n",
    "datasets = [olist_customer, olist_geolocation, olist_orders, olist_order_items, olist_order_payments,\n",
    "            olist_order_reviews, olist_products, olist_sellers]\n",
    "names = ['olist_customer', 'olist_geolocation', 'olist_orders', 'olist_order_items', 'olist_order_payments',\n",
    "         'olist_order_reviews', 'olist_products', 'olist_sellers']\n",
    "\n",
    "# Creating a DataFrame with useful information about all datasets\n",
    "data_info = pd.DataFrame({})\n",
    "data_info['dataset'] = names\n",
    "#[df.shape[0] for df in datasets] gives number of row count\n",
    "data_info['n_rows'] = [df.shape[0] for df in datasets]\n",
    "#[df.shape[1] for df in datasets] gives number of col count\n",
    "data_info['n_cols'] = [df.shape[1] for df in datasets]\n",
    "data_info['null_amount'] = [df.isnull().sum().sum()for df in datasets]\n",
    "data_info['qty_null_columns'] = [len([col for col, null in df.isnull().sum().items() if null > 0]) for df in datasets] #which columns have nulls\n",
    "data_info['null_columns'] = [', '.join([col for col, null in df.isnull().sum().items() if null > 0]) for df in datasets]\n",
    "data_info.style.background_gradient()"
   ]
  },
  {
   "cell_type": "markdown",
   "metadata": {},
   "source": [
    "Now let's use a homemade function by Thiago Panini found on the module viz_utils.py for looking at each and bring some detailed parameters about the data content. With this functions we can get the following information for each data set column;\n",
    "\n",
    "- Column name\n",
    "- Null amount\n",
    "- Null percentage among the respective dataset\n",
    "- Data type\n",
    "- total categorical entries"
   ]
  },
  {
   "cell_type": "code",
   "execution_count": 5,
   "metadata": {},
   "outputs": [
    {
     "data": {
      "text/html": [
       "<div>\n",
       "<style scoped>\n",
       "    .dataframe tbody tr th:only-of-type {\n",
       "        vertical-align: middle;\n",
       "    }\n",
       "\n",
       "    .dataframe tbody tr th {\n",
       "        vertical-align: top;\n",
       "    }\n",
       "\n",
       "    .dataframe thead th {\n",
       "        text-align: right;\n",
       "    }\n",
       "</style>\n",
       "<table border=\"1\" class=\"dataframe\">\n",
       "  <thead>\n",
       "    <tr style=\"text-align: right;\">\n",
       "      <th></th>\n",
       "      <th>dataset_name</th>\n",
       "      <th>feature</th>\n",
       "      <th>qtd_null</th>\n",
       "      <th>percent_null</th>\n",
       "      <th>dtype</th>\n",
       "      <th>qtd_cat</th>\n",
       "    </tr>\n",
       "  </thead>\n",
       "  <tbody>\n",
       "    <tr>\n",
       "      <th>0</th>\n",
       "      <td>olist_customer</td>\n",
       "      <td>customer_id</td>\n",
       "      <td>0</td>\n",
       "      <td>0.000000</td>\n",
       "      <td>object</td>\n",
       "      <td>99441</td>\n",
       "    </tr>\n",
       "    <tr>\n",
       "      <th>1</th>\n",
       "      <td>olist_customer</td>\n",
       "      <td>customer_unique_id</td>\n",
       "      <td>0</td>\n",
       "      <td>0.000000</td>\n",
       "      <td>object</td>\n",
       "      <td>96096</td>\n",
       "    </tr>\n",
       "    <tr>\n",
       "      <th>2</th>\n",
       "      <td>olist_customer</td>\n",
       "      <td>customer_zip_code_prefix</td>\n",
       "      <td>0</td>\n",
       "      <td>0.000000</td>\n",
       "      <td>int64</td>\n",
       "      <td>0</td>\n",
       "    </tr>\n",
       "    <tr>\n",
       "      <th>3</th>\n",
       "      <td>olist_customer</td>\n",
       "      <td>customer_city</td>\n",
       "      <td>0</td>\n",
       "      <td>0.000000</td>\n",
       "      <td>object</td>\n",
       "      <td>4119</td>\n",
       "    </tr>\n",
       "    <tr>\n",
       "      <th>4</th>\n",
       "      <td>olist_customer</td>\n",
       "      <td>customer_state</td>\n",
       "      <td>0</td>\n",
       "      <td>0.000000</td>\n",
       "      <td>object</td>\n",
       "      <td>27</td>\n",
       "    </tr>\n",
       "    <tr>\n",
       "      <th>0</th>\n",
       "      <td>olist_geolocation</td>\n",
       "      <td>geolocation_zip_code_prefix</td>\n",
       "      <td>0</td>\n",
       "      <td>0.000000</td>\n",
       "      <td>int64</td>\n",
       "      <td>0</td>\n",
       "    </tr>\n",
       "    <tr>\n",
       "      <th>1</th>\n",
       "      <td>olist_geolocation</td>\n",
       "      <td>geolocation_lat</td>\n",
       "      <td>0</td>\n",
       "      <td>0.000000</td>\n",
       "      <td>float64</td>\n",
       "      <td>0</td>\n",
       "    </tr>\n",
       "    <tr>\n",
       "      <th>2</th>\n",
       "      <td>olist_geolocation</td>\n",
       "      <td>geolocation_lng</td>\n",
       "      <td>0</td>\n",
       "      <td>0.000000</td>\n",
       "      <td>float64</td>\n",
       "      <td>0</td>\n",
       "    </tr>\n",
       "    <tr>\n",
       "      <th>3</th>\n",
       "      <td>olist_geolocation</td>\n",
       "      <td>geolocation_city</td>\n",
       "      <td>0</td>\n",
       "      <td>0.000000</td>\n",
       "      <td>object</td>\n",
       "      <td>8011</td>\n",
       "    </tr>\n",
       "    <tr>\n",
       "      <th>4</th>\n",
       "      <td>olist_geolocation</td>\n",
       "      <td>geolocation_state</td>\n",
       "      <td>0</td>\n",
       "      <td>0.000000</td>\n",
       "      <td>object</td>\n",
       "      <td>27</td>\n",
       "    </tr>\n",
       "    <tr>\n",
       "      <th>0</th>\n",
       "      <td>olist_orders</td>\n",
       "      <td>order_delivered_customer_date</td>\n",
       "      <td>2965</td>\n",
       "      <td>0.029817</td>\n",
       "      <td>object</td>\n",
       "      <td>95664</td>\n",
       "    </tr>\n",
       "    <tr>\n",
       "      <th>1</th>\n",
       "      <td>olist_orders</td>\n",
       "      <td>order_delivered_carrier_date</td>\n",
       "      <td>1783</td>\n",
       "      <td>0.017930</td>\n",
       "      <td>object</td>\n",
       "      <td>81018</td>\n",
       "    </tr>\n",
       "    <tr>\n",
       "      <th>2</th>\n",
       "      <td>olist_orders</td>\n",
       "      <td>order_approved_at</td>\n",
       "      <td>160</td>\n",
       "      <td>0.001609</td>\n",
       "      <td>object</td>\n",
       "      <td>90733</td>\n",
       "    </tr>\n",
       "    <tr>\n",
       "      <th>3</th>\n",
       "      <td>olist_orders</td>\n",
       "      <td>order_id</td>\n",
       "      <td>0</td>\n",
       "      <td>0.000000</td>\n",
       "      <td>object</td>\n",
       "      <td>99441</td>\n",
       "    </tr>\n",
       "    <tr>\n",
       "      <th>4</th>\n",
       "      <td>olist_orders</td>\n",
       "      <td>customer_id</td>\n",
       "      <td>0</td>\n",
       "      <td>0.000000</td>\n",
       "      <td>object</td>\n",
       "      <td>99441</td>\n",
       "    </tr>\n",
       "    <tr>\n",
       "      <th>5</th>\n",
       "      <td>olist_orders</td>\n",
       "      <td>order_status</td>\n",
       "      <td>0</td>\n",
       "      <td>0.000000</td>\n",
       "      <td>object</td>\n",
       "      <td>8</td>\n",
       "    </tr>\n",
       "    <tr>\n",
       "      <th>6</th>\n",
       "      <td>olist_orders</td>\n",
       "      <td>order_purchase_timestamp</td>\n",
       "      <td>0</td>\n",
       "      <td>0.000000</td>\n",
       "      <td>object</td>\n",
       "      <td>98875</td>\n",
       "    </tr>\n",
       "    <tr>\n",
       "      <th>7</th>\n",
       "      <td>olist_orders</td>\n",
       "      <td>order_estimated_delivery_date</td>\n",
       "      <td>0</td>\n",
       "      <td>0.000000</td>\n",
       "      <td>object</td>\n",
       "      <td>459</td>\n",
       "    </tr>\n",
       "    <tr>\n",
       "      <th>0</th>\n",
       "      <td>olist_order_items</td>\n",
       "      <td>order_id</td>\n",
       "      <td>0</td>\n",
       "      <td>0.000000</td>\n",
       "      <td>object</td>\n",
       "      <td>98666</td>\n",
       "    </tr>\n",
       "    <tr>\n",
       "      <th>1</th>\n",
       "      <td>olist_order_items</td>\n",
       "      <td>order_item_id</td>\n",
       "      <td>0</td>\n",
       "      <td>0.000000</td>\n",
       "      <td>int64</td>\n",
       "      <td>0</td>\n",
       "    </tr>\n",
       "    <tr>\n",
       "      <th>2</th>\n",
       "      <td>olist_order_items</td>\n",
       "      <td>product_id</td>\n",
       "      <td>0</td>\n",
       "      <td>0.000000</td>\n",
       "      <td>object</td>\n",
       "      <td>32951</td>\n",
       "    </tr>\n",
       "    <tr>\n",
       "      <th>3</th>\n",
       "      <td>olist_order_items</td>\n",
       "      <td>seller_id</td>\n",
       "      <td>0</td>\n",
       "      <td>0.000000</td>\n",
       "      <td>object</td>\n",
       "      <td>3095</td>\n",
       "    </tr>\n",
       "    <tr>\n",
       "      <th>4</th>\n",
       "      <td>olist_order_items</td>\n",
       "      <td>shipping_limit_date</td>\n",
       "      <td>0</td>\n",
       "      <td>0.000000</td>\n",
       "      <td>object</td>\n",
       "      <td>93318</td>\n",
       "    </tr>\n",
       "    <tr>\n",
       "      <th>5</th>\n",
       "      <td>olist_order_items</td>\n",
       "      <td>price</td>\n",
       "      <td>0</td>\n",
       "      <td>0.000000</td>\n",
       "      <td>float64</td>\n",
       "      <td>0</td>\n",
       "    </tr>\n",
       "    <tr>\n",
       "      <th>6</th>\n",
       "      <td>olist_order_items</td>\n",
       "      <td>freight_value</td>\n",
       "      <td>0</td>\n",
       "      <td>0.000000</td>\n",
       "      <td>float64</td>\n",
       "      <td>0</td>\n",
       "    </tr>\n",
       "    <tr>\n",
       "      <th>0</th>\n",
       "      <td>olist_order_payments</td>\n",
       "      <td>order_id</td>\n",
       "      <td>0</td>\n",
       "      <td>0.000000</td>\n",
       "      <td>object</td>\n",
       "      <td>99440</td>\n",
       "    </tr>\n",
       "    <tr>\n",
       "      <th>1</th>\n",
       "      <td>olist_order_payments</td>\n",
       "      <td>payment_sequential</td>\n",
       "      <td>0</td>\n",
       "      <td>0.000000</td>\n",
       "      <td>int64</td>\n",
       "      <td>0</td>\n",
       "    </tr>\n",
       "    <tr>\n",
       "      <th>2</th>\n",
       "      <td>olist_order_payments</td>\n",
       "      <td>payment_type</td>\n",
       "      <td>0</td>\n",
       "      <td>0.000000</td>\n",
       "      <td>object</td>\n",
       "      <td>5</td>\n",
       "    </tr>\n",
       "    <tr>\n",
       "      <th>3</th>\n",
       "      <td>olist_order_payments</td>\n",
       "      <td>payment_installments</td>\n",
       "      <td>0</td>\n",
       "      <td>0.000000</td>\n",
       "      <td>int64</td>\n",
       "      <td>0</td>\n",
       "    </tr>\n",
       "    <tr>\n",
       "      <th>4</th>\n",
       "      <td>olist_order_payments</td>\n",
       "      <td>payment_value</td>\n",
       "      <td>0</td>\n",
       "      <td>0.000000</td>\n",
       "      <td>float64</td>\n",
       "      <td>0</td>\n",
       "    </tr>\n",
       "    <tr>\n",
       "      <th>0</th>\n",
       "      <td>olist_order_reviews</td>\n",
       "      <td>review_comment_title</td>\n",
       "      <td>87656</td>\n",
       "      <td>0.883415</td>\n",
       "      <td>object</td>\n",
       "      <td>4527</td>\n",
       "    </tr>\n",
       "    <tr>\n",
       "      <th>1</th>\n",
       "      <td>olist_order_reviews</td>\n",
       "      <td>review_comment_message</td>\n",
       "      <td>58247</td>\n",
       "      <td>0.587025</td>\n",
       "      <td>object</td>\n",
       "      <td>36159</td>\n",
       "    </tr>\n",
       "    <tr>\n",
       "      <th>2</th>\n",
       "      <td>olist_order_reviews</td>\n",
       "      <td>review_id</td>\n",
       "      <td>0</td>\n",
       "      <td>0.000000</td>\n",
       "      <td>object</td>\n",
       "      <td>98410</td>\n",
       "    </tr>\n",
       "    <tr>\n",
       "      <th>3</th>\n",
       "      <td>olist_order_reviews</td>\n",
       "      <td>order_id</td>\n",
       "      <td>0</td>\n",
       "      <td>0.000000</td>\n",
       "      <td>object</td>\n",
       "      <td>98673</td>\n",
       "    </tr>\n",
       "    <tr>\n",
       "      <th>4</th>\n",
       "      <td>olist_order_reviews</td>\n",
       "      <td>review_score</td>\n",
       "      <td>0</td>\n",
       "      <td>0.000000</td>\n",
       "      <td>int64</td>\n",
       "      <td>0</td>\n",
       "    </tr>\n",
       "    <tr>\n",
       "      <th>5</th>\n",
       "      <td>olist_order_reviews</td>\n",
       "      <td>review_creation_date</td>\n",
       "      <td>0</td>\n",
       "      <td>0.000000</td>\n",
       "      <td>object</td>\n",
       "      <td>636</td>\n",
       "    </tr>\n",
       "    <tr>\n",
       "      <th>6</th>\n",
       "      <td>olist_order_reviews</td>\n",
       "      <td>review_answer_timestamp</td>\n",
       "      <td>0</td>\n",
       "      <td>0.000000</td>\n",
       "      <td>object</td>\n",
       "      <td>98248</td>\n",
       "    </tr>\n",
       "    <tr>\n",
       "      <th>0</th>\n",
       "      <td>olist_products</td>\n",
       "      <td>product_category_name</td>\n",
       "      <td>610</td>\n",
       "      <td>0.018512</td>\n",
       "      <td>object</td>\n",
       "      <td>73</td>\n",
       "    </tr>\n",
       "    <tr>\n",
       "      <th>1</th>\n",
       "      <td>olist_products</td>\n",
       "      <td>product_name_lenght</td>\n",
       "      <td>610</td>\n",
       "      <td>0.018512</td>\n",
       "      <td>float64</td>\n",
       "      <td>0</td>\n",
       "    </tr>\n",
       "    <tr>\n",
       "      <th>2</th>\n",
       "      <td>olist_products</td>\n",
       "      <td>product_description_lenght</td>\n",
       "      <td>610</td>\n",
       "      <td>0.018512</td>\n",
       "      <td>float64</td>\n",
       "      <td>0</td>\n",
       "    </tr>\n",
       "    <tr>\n",
       "      <th>3</th>\n",
       "      <td>olist_products</td>\n",
       "      <td>product_photos_qty</td>\n",
       "      <td>610</td>\n",
       "      <td>0.018512</td>\n",
       "      <td>float64</td>\n",
       "      <td>0</td>\n",
       "    </tr>\n",
       "    <tr>\n",
       "      <th>4</th>\n",
       "      <td>olist_products</td>\n",
       "      <td>product_weight_g</td>\n",
       "      <td>2</td>\n",
       "      <td>0.000061</td>\n",
       "      <td>float64</td>\n",
       "      <td>0</td>\n",
       "    </tr>\n",
       "    <tr>\n",
       "      <th>5</th>\n",
       "      <td>olist_products</td>\n",
       "      <td>product_length_cm</td>\n",
       "      <td>2</td>\n",
       "      <td>0.000061</td>\n",
       "      <td>float64</td>\n",
       "      <td>0</td>\n",
       "    </tr>\n",
       "    <tr>\n",
       "      <th>6</th>\n",
       "      <td>olist_products</td>\n",
       "      <td>product_height_cm</td>\n",
       "      <td>2</td>\n",
       "      <td>0.000061</td>\n",
       "      <td>float64</td>\n",
       "      <td>0</td>\n",
       "    </tr>\n",
       "    <tr>\n",
       "      <th>7</th>\n",
       "      <td>olist_products</td>\n",
       "      <td>product_width_cm</td>\n",
       "      <td>2</td>\n",
       "      <td>0.000061</td>\n",
       "      <td>float64</td>\n",
       "      <td>0</td>\n",
       "    </tr>\n",
       "    <tr>\n",
       "      <th>8</th>\n",
       "      <td>olist_products</td>\n",
       "      <td>product_id</td>\n",
       "      <td>0</td>\n",
       "      <td>0.000000</td>\n",
       "      <td>object</td>\n",
       "      <td>32951</td>\n",
       "    </tr>\n",
       "    <tr>\n",
       "      <th>0</th>\n",
       "      <td>olist_sellers</td>\n",
       "      <td>seller_id</td>\n",
       "      <td>0</td>\n",
       "      <td>0.000000</td>\n",
       "      <td>object</td>\n",
       "      <td>3095</td>\n",
       "    </tr>\n",
       "    <tr>\n",
       "      <th>1</th>\n",
       "      <td>olist_sellers</td>\n",
       "      <td>seller_zip_code_prefix</td>\n",
       "      <td>0</td>\n",
       "      <td>0.000000</td>\n",
       "      <td>int64</td>\n",
       "      <td>0</td>\n",
       "    </tr>\n",
       "    <tr>\n",
       "      <th>2</th>\n",
       "      <td>olist_sellers</td>\n",
       "      <td>seller_city</td>\n",
       "      <td>0</td>\n",
       "      <td>0.000000</td>\n",
       "      <td>object</td>\n",
       "      <td>611</td>\n",
       "    </tr>\n",
       "    <tr>\n",
       "      <th>3</th>\n",
       "      <td>olist_sellers</td>\n",
       "      <td>seller_state</td>\n",
       "      <td>0</td>\n",
       "      <td>0.000000</td>\n",
       "      <td>object</td>\n",
       "      <td>23</td>\n",
       "    </tr>\n",
       "  </tbody>\n",
       "</table>\n",
       "</div>"
      ],
      "text/plain": [
       "           dataset_name                        feature  qtd_null  \\\n",
       "0        olist_customer                    customer_id         0   \n",
       "1        olist_customer             customer_unique_id         0   \n",
       "2        olist_customer       customer_zip_code_prefix         0   \n",
       "3        olist_customer                  customer_city         0   \n",
       "4        olist_customer                 customer_state         0   \n",
       "0     olist_geolocation    geolocation_zip_code_prefix         0   \n",
       "1     olist_geolocation                geolocation_lat         0   \n",
       "2     olist_geolocation                geolocation_lng         0   \n",
       "3     olist_geolocation               geolocation_city         0   \n",
       "4     olist_geolocation              geolocation_state         0   \n",
       "0          olist_orders  order_delivered_customer_date      2965   \n",
       "1          olist_orders   order_delivered_carrier_date      1783   \n",
       "2          olist_orders              order_approved_at       160   \n",
       "3          olist_orders                       order_id         0   \n",
       "4          olist_orders                    customer_id         0   \n",
       "5          olist_orders                   order_status         0   \n",
       "6          olist_orders       order_purchase_timestamp         0   \n",
       "7          olist_orders  order_estimated_delivery_date         0   \n",
       "0     olist_order_items                       order_id         0   \n",
       "1     olist_order_items                  order_item_id         0   \n",
       "2     olist_order_items                     product_id         0   \n",
       "3     olist_order_items                      seller_id         0   \n",
       "4     olist_order_items            shipping_limit_date         0   \n",
       "5     olist_order_items                          price         0   \n",
       "6     olist_order_items                  freight_value         0   \n",
       "0  olist_order_payments                       order_id         0   \n",
       "1  olist_order_payments             payment_sequential         0   \n",
       "2  olist_order_payments                   payment_type         0   \n",
       "3  olist_order_payments           payment_installments         0   \n",
       "4  olist_order_payments                  payment_value         0   \n",
       "0   olist_order_reviews           review_comment_title     87656   \n",
       "1   olist_order_reviews         review_comment_message     58247   \n",
       "2   olist_order_reviews                      review_id         0   \n",
       "3   olist_order_reviews                       order_id         0   \n",
       "4   olist_order_reviews                   review_score         0   \n",
       "5   olist_order_reviews           review_creation_date         0   \n",
       "6   olist_order_reviews        review_answer_timestamp         0   \n",
       "0        olist_products          product_category_name       610   \n",
       "1        olist_products            product_name_lenght       610   \n",
       "2        olist_products     product_description_lenght       610   \n",
       "3        olist_products             product_photos_qty       610   \n",
       "4        olist_products               product_weight_g         2   \n",
       "5        olist_products              product_length_cm         2   \n",
       "6        olist_products              product_height_cm         2   \n",
       "7        olist_products               product_width_cm         2   \n",
       "8        olist_products                     product_id         0   \n",
       "0         olist_sellers                      seller_id         0   \n",
       "1         olist_sellers         seller_zip_code_prefix         0   \n",
       "2         olist_sellers                    seller_city         0   \n",
       "3         olist_sellers                   seller_state         0   \n",
       "\n",
       "   percent_null    dtype  qtd_cat  \n",
       "0      0.000000   object    99441  \n",
       "1      0.000000   object    96096  \n",
       "2      0.000000    int64        0  \n",
       "3      0.000000   object     4119  \n",
       "4      0.000000   object       27  \n",
       "0      0.000000    int64        0  \n",
       "1      0.000000  float64        0  \n",
       "2      0.000000  float64        0  \n",
       "3      0.000000   object     8011  \n",
       "4      0.000000   object       27  \n",
       "0      0.029817   object    95664  \n",
       "1      0.017930   object    81018  \n",
       "2      0.001609   object    90733  \n",
       "3      0.000000   object    99441  \n",
       "4      0.000000   object    99441  \n",
       "5      0.000000   object        8  \n",
       "6      0.000000   object    98875  \n",
       "7      0.000000   object      459  \n",
       "0      0.000000   object    98666  \n",
       "1      0.000000    int64        0  \n",
       "2      0.000000   object    32951  \n",
       "3      0.000000   object     3095  \n",
       "4      0.000000   object    93318  \n",
       "5      0.000000  float64        0  \n",
       "6      0.000000  float64        0  \n",
       "0      0.000000   object    99440  \n",
       "1      0.000000    int64        0  \n",
       "2      0.000000   object        5  \n",
       "3      0.000000    int64        0  \n",
       "4      0.000000  float64        0  \n",
       "0      0.883415   object     4527  \n",
       "1      0.587025   object    36159  \n",
       "2      0.000000   object    98410  \n",
       "3      0.000000   object    98673  \n",
       "4      0.000000    int64        0  \n",
       "5      0.000000   object      636  \n",
       "6      0.000000   object    98248  \n",
       "0      0.018512   object       73  \n",
       "1      0.018512  float64        0  \n",
       "2      0.018512  float64        0  \n",
       "3      0.018512  float64        0  \n",
       "4      0.000061  float64        0  \n",
       "5      0.000061  float64        0  \n",
       "6      0.000061  float64        0  \n",
       "7      0.000061  float64        0  \n",
       "8      0.000000   object    32951  \n",
       "0      0.000000   object     3095  \n",
       "1      0.000000    int64        0  \n",
       "2      0.000000   object      611  \n",
       "3      0.000000   object       23  "
      ]
     },
     "execution_count": 5,
     "metadata": {},
     "output_type": "execute_result"
    }
   ],
   "source": [
    "df_overview = pd.DataFrame({})\n",
    "name_col=[]\n",
    "for name, df in zip(names,datasets):\n",
    "     name_col += [name] * df.shape[1]\n",
    "     df_overview=df_overview.append(data_overview(df))\n",
    "     df_overview[\"dataset_name\"]= name_col\n",
    "\n",
    "df_overview=df_overview.loc[:,[\"dataset_name\",\"feature\",\"qtd_null\",\"percent_null\",\"dtype\",\"qtd_cat\"]]\n",
    "df_overview"
   ]
  },
  {
   "cell_type": "markdown",
   "metadata": {},
   "source": [
    "We can now use the dataframe above wherever we want to do some data transformation or data analysis. It contains basically the main information about each one of the datasets available. This is very useful."
   ]
  },
  {
   "cell_type": "markdown",
   "metadata": {},
   "source": [
    "### 3.- Joining data for the analysis"
   ]
  },
  {
   "cell_type": "code",
   "execution_count": 6,
   "metadata": {},
   "outputs": [],
   "source": [
    "# Join datasets\n",
    "join_data= olist_orders.merge(olist_customer,on=\"customer_id\").merge(olist_order_items, on=\"order_id\").merge(olist_products,on=\"product_id\").merge(olist_products_translation,on=\"product_category_name\").merge(olist_order_payments,on=\"order_id\").merge(olist_sellers,on=\"seller_id\").merge(olist_order_reviews,on=\"order_id\")"
   ]
  },
  {
   "cell_type": "code",
   "execution_count": 7,
   "metadata": {},
   "outputs": [
    {
     "data": {
      "text/html": [
       "<div>\n",
       "<style scoped>\n",
       "    .dataframe tbody tr th:only-of-type {\n",
       "        vertical-align: middle;\n",
       "    }\n",
       "\n",
       "    .dataframe tbody tr th {\n",
       "        vertical-align: top;\n",
       "    }\n",
       "\n",
       "    .dataframe thead th {\n",
       "        text-align: right;\n",
       "    }\n",
       "</style>\n",
       "<table border=\"1\" class=\"dataframe\">\n",
       "  <thead>\n",
       "    <tr style=\"text-align: right;\">\n",
       "      <th></th>\n",
       "      <th>order_id</th>\n",
       "      <th>customer_id</th>\n",
       "      <th>order_status</th>\n",
       "      <th>order_purchase_timestamp</th>\n",
       "      <th>order_approved_at</th>\n",
       "      <th>order_delivered_carrier_date</th>\n",
       "      <th>order_delivered_customer_date</th>\n",
       "      <th>order_estimated_delivery_date</th>\n",
       "      <th>customer_unique_id</th>\n",
       "      <th>customer_zip_code_prefix</th>\n",
       "      <th>...</th>\n",
       "      <th>payment_value</th>\n",
       "      <th>seller_zip_code_prefix</th>\n",
       "      <th>seller_city</th>\n",
       "      <th>seller_state</th>\n",
       "      <th>review_id</th>\n",
       "      <th>review_score</th>\n",
       "      <th>review_comment_title</th>\n",
       "      <th>review_comment_message</th>\n",
       "      <th>review_creation_date</th>\n",
       "      <th>review_answer_timestamp</th>\n",
       "    </tr>\n",
       "  </thead>\n",
       "  <tbody>\n",
       "    <tr>\n",
       "      <th>0</th>\n",
       "      <td>e481f51cbdc54678b7cc49136f2d6af7</td>\n",
       "      <td>9ef432eb6251297304e76186b10a928d</td>\n",
       "      <td>delivered</td>\n",
       "      <td>2017-10-02 10:56:33</td>\n",
       "      <td>2017-10-02 11:07:15</td>\n",
       "      <td>2017-10-04 19:55:00</td>\n",
       "      <td>2017-10-10 21:25:13</td>\n",
       "      <td>2017-10-18 00:00:00</td>\n",
       "      <td>7c396fd4830fd04220f754e42b4e5bff</td>\n",
       "      <td>3149</td>\n",
       "      <td>...</td>\n",
       "      <td>18.12</td>\n",
       "      <td>9350</td>\n",
       "      <td>maua</td>\n",
       "      <td>SP</td>\n",
       "      <td>a54f0611adc9ed256b57ede6b6eb5114</td>\n",
       "      <td>4</td>\n",
       "      <td>NaN</td>\n",
       "      <td>Não testei o produto ainda, mas ele veio corre...</td>\n",
       "      <td>2017-10-11 00:00:00</td>\n",
       "      <td>2017-10-12 03:43:48</td>\n",
       "    </tr>\n",
       "    <tr>\n",
       "      <th>1</th>\n",
       "      <td>e481f51cbdc54678b7cc49136f2d6af7</td>\n",
       "      <td>9ef432eb6251297304e76186b10a928d</td>\n",
       "      <td>delivered</td>\n",
       "      <td>2017-10-02 10:56:33</td>\n",
       "      <td>2017-10-02 11:07:15</td>\n",
       "      <td>2017-10-04 19:55:00</td>\n",
       "      <td>2017-10-10 21:25:13</td>\n",
       "      <td>2017-10-18 00:00:00</td>\n",
       "      <td>7c396fd4830fd04220f754e42b4e5bff</td>\n",
       "      <td>3149</td>\n",
       "      <td>...</td>\n",
       "      <td>2.00</td>\n",
       "      <td>9350</td>\n",
       "      <td>maua</td>\n",
       "      <td>SP</td>\n",
       "      <td>a54f0611adc9ed256b57ede6b6eb5114</td>\n",
       "      <td>4</td>\n",
       "      <td>NaN</td>\n",
       "      <td>Não testei o produto ainda, mas ele veio corre...</td>\n",
       "      <td>2017-10-11 00:00:00</td>\n",
       "      <td>2017-10-12 03:43:48</td>\n",
       "    </tr>\n",
       "    <tr>\n",
       "      <th>2</th>\n",
       "      <td>e481f51cbdc54678b7cc49136f2d6af7</td>\n",
       "      <td>9ef432eb6251297304e76186b10a928d</td>\n",
       "      <td>delivered</td>\n",
       "      <td>2017-10-02 10:56:33</td>\n",
       "      <td>2017-10-02 11:07:15</td>\n",
       "      <td>2017-10-04 19:55:00</td>\n",
       "      <td>2017-10-10 21:25:13</td>\n",
       "      <td>2017-10-18 00:00:00</td>\n",
       "      <td>7c396fd4830fd04220f754e42b4e5bff</td>\n",
       "      <td>3149</td>\n",
       "      <td>...</td>\n",
       "      <td>18.59</td>\n",
       "      <td>9350</td>\n",
       "      <td>maua</td>\n",
       "      <td>SP</td>\n",
       "      <td>a54f0611adc9ed256b57ede6b6eb5114</td>\n",
       "      <td>4</td>\n",
       "      <td>NaN</td>\n",
       "      <td>Não testei o produto ainda, mas ele veio corre...</td>\n",
       "      <td>2017-10-11 00:00:00</td>\n",
       "      <td>2017-10-12 03:43:48</td>\n",
       "    </tr>\n",
       "    <tr>\n",
       "      <th>3</th>\n",
       "      <td>128e10d95713541c87cd1a2e48201934</td>\n",
       "      <td>a20e8105f23924cd00833fd87daa0831</td>\n",
       "      <td>delivered</td>\n",
       "      <td>2017-08-15 18:29:31</td>\n",
       "      <td>2017-08-15 20:05:16</td>\n",
       "      <td>2017-08-17 15:28:33</td>\n",
       "      <td>2017-08-18 14:44:43</td>\n",
       "      <td>2017-08-28 00:00:00</td>\n",
       "      <td>3a51803cc0d012c3b5dc8b7528cb05f7</td>\n",
       "      <td>3366</td>\n",
       "      <td>...</td>\n",
       "      <td>37.77</td>\n",
       "      <td>9350</td>\n",
       "      <td>maua</td>\n",
       "      <td>SP</td>\n",
       "      <td>b46f1e34512b0f4c74a72398b03ca788</td>\n",
       "      <td>4</td>\n",
       "      <td>NaN</td>\n",
       "      <td>Deveriam embalar melhor o produto. A caixa vei...</td>\n",
       "      <td>2017-08-19 00:00:00</td>\n",
       "      <td>2017-08-20 15:16:36</td>\n",
       "    </tr>\n",
       "    <tr>\n",
       "      <th>4</th>\n",
       "      <td>0e7e841ddf8f8f2de2bad69267ecfbcf</td>\n",
       "      <td>26c7ac168e1433912a51b924fbd34d34</td>\n",
       "      <td>delivered</td>\n",
       "      <td>2017-08-02 18:24:47</td>\n",
       "      <td>2017-08-02 18:43:15</td>\n",
       "      <td>2017-08-04 17:35:43</td>\n",
       "      <td>2017-08-07 18:30:01</td>\n",
       "      <td>2017-08-15 00:00:00</td>\n",
       "      <td>ef0996a1a279c26e7ecbd737be23d235</td>\n",
       "      <td>2290</td>\n",
       "      <td>...</td>\n",
       "      <td>37.77</td>\n",
       "      <td>9350</td>\n",
       "      <td>maua</td>\n",
       "      <td>SP</td>\n",
       "      <td>dc90f19c2806f1abba9e72ad3c350073</td>\n",
       "      <td>5</td>\n",
       "      <td>NaN</td>\n",
       "      <td>Só achei ela pequena pra seis xícaras ,mais é ...</td>\n",
       "      <td>2017-08-08 00:00:00</td>\n",
       "      <td>2017-08-08 23:26:23</td>\n",
       "    </tr>\n",
       "  </tbody>\n",
       "</table>\n",
       "<p>5 rows × 40 columns</p>\n",
       "</div>"
      ],
      "text/plain": [
       "                           order_id                       customer_id  \\\n",
       "0  e481f51cbdc54678b7cc49136f2d6af7  9ef432eb6251297304e76186b10a928d   \n",
       "1  e481f51cbdc54678b7cc49136f2d6af7  9ef432eb6251297304e76186b10a928d   \n",
       "2  e481f51cbdc54678b7cc49136f2d6af7  9ef432eb6251297304e76186b10a928d   \n",
       "3  128e10d95713541c87cd1a2e48201934  a20e8105f23924cd00833fd87daa0831   \n",
       "4  0e7e841ddf8f8f2de2bad69267ecfbcf  26c7ac168e1433912a51b924fbd34d34   \n",
       "\n",
       "  order_status order_purchase_timestamp    order_approved_at  \\\n",
       "0    delivered      2017-10-02 10:56:33  2017-10-02 11:07:15   \n",
       "1    delivered      2017-10-02 10:56:33  2017-10-02 11:07:15   \n",
       "2    delivered      2017-10-02 10:56:33  2017-10-02 11:07:15   \n",
       "3    delivered      2017-08-15 18:29:31  2017-08-15 20:05:16   \n",
       "4    delivered      2017-08-02 18:24:47  2017-08-02 18:43:15   \n",
       "\n",
       "  order_delivered_carrier_date order_delivered_customer_date  \\\n",
       "0          2017-10-04 19:55:00           2017-10-10 21:25:13   \n",
       "1          2017-10-04 19:55:00           2017-10-10 21:25:13   \n",
       "2          2017-10-04 19:55:00           2017-10-10 21:25:13   \n",
       "3          2017-08-17 15:28:33           2017-08-18 14:44:43   \n",
       "4          2017-08-04 17:35:43           2017-08-07 18:30:01   \n",
       "\n",
       "  order_estimated_delivery_date                customer_unique_id  \\\n",
       "0           2017-10-18 00:00:00  7c396fd4830fd04220f754e42b4e5bff   \n",
       "1           2017-10-18 00:00:00  7c396fd4830fd04220f754e42b4e5bff   \n",
       "2           2017-10-18 00:00:00  7c396fd4830fd04220f754e42b4e5bff   \n",
       "3           2017-08-28 00:00:00  3a51803cc0d012c3b5dc8b7528cb05f7   \n",
       "4           2017-08-15 00:00:00  ef0996a1a279c26e7ecbd737be23d235   \n",
       "\n",
       "   customer_zip_code_prefix  ... payment_value seller_zip_code_prefix  \\\n",
       "0                      3149  ...         18.12                   9350   \n",
       "1                      3149  ...          2.00                   9350   \n",
       "2                      3149  ...         18.59                   9350   \n",
       "3                      3366  ...         37.77                   9350   \n",
       "4                      2290  ...         37.77                   9350   \n",
       "\n",
       "   seller_city seller_state                         review_id review_score  \\\n",
       "0         maua           SP  a54f0611adc9ed256b57ede6b6eb5114            4   \n",
       "1         maua           SP  a54f0611adc9ed256b57ede6b6eb5114            4   \n",
       "2         maua           SP  a54f0611adc9ed256b57ede6b6eb5114            4   \n",
       "3         maua           SP  b46f1e34512b0f4c74a72398b03ca788            4   \n",
       "4         maua           SP  dc90f19c2806f1abba9e72ad3c350073            5   \n",
       "\n",
       "   review_comment_title                             review_comment_message  \\\n",
       "0                   NaN  Não testei o produto ainda, mas ele veio corre...   \n",
       "1                   NaN  Não testei o produto ainda, mas ele veio corre...   \n",
       "2                   NaN  Não testei o produto ainda, mas ele veio corre...   \n",
       "3                   NaN  Deveriam embalar melhor o produto. A caixa vei...   \n",
       "4                   NaN  Só achei ela pequena pra seis xícaras ,mais é ...   \n",
       "\n",
       "  review_creation_date  review_answer_timestamp  \n",
       "0  2017-10-11 00:00:00      2017-10-12 03:43:48  \n",
       "1  2017-10-11 00:00:00      2017-10-12 03:43:48  \n",
       "2  2017-10-11 00:00:00      2017-10-12 03:43:48  \n",
       "3  2017-08-19 00:00:00      2017-08-20 15:16:36  \n",
       "4  2017-08-08 00:00:00      2017-08-08 23:26:23  \n",
       "\n",
       "[5 rows x 40 columns]"
      ]
     },
     "execution_count": 7,
     "metadata": {},
     "output_type": "execute_result"
    }
   ],
   "source": [
    "join_data.head()"
   ]
  },
  {
   "cell_type": "markdown",
   "metadata": {},
   "source": [
    "### 4.- Customer Analysis"
   ]
  },
  {
   "cell_type": "markdown",
   "metadata": {},
   "source": [
    "#### 4.1 Proportion of customer generating most of the revenue:"
   ]
  },
  {
   "cell_type": "code",
   "execution_count": 8,
   "metadata": {},
   "outputs": [
    {
     "name": "stdout",
     "output_type": "stream",
     "text": [
      "                     customer_unique_id  payment_value\n",
      "3724   0a0a92112bd4c708ca5fde585afaa872      109312.64\n",
      "71634  c402f431464c72e27330a67f7b94d4fb       44048.00\n",
      "23445  4007669dec559734d6f53e029e360987       36489.24\n",
      "87489  ef8d54b3797ea4db1d63f0ced6a906e9       30186.00\n",
      "43207  763c8b1c9c68a0229c42c9fc6f662b93       29099.52\n",
      "...                                 ...            ...\n",
      "40726  6f5b9d1cdccc4d28f0483a612edecacf          11.63\n",
      "14826  2878e5b88167faab17d4fb83a986d38b          11.63\n",
      "65527  b33336f46234b24a613ad9064d13106d          10.89\n",
      "69097  bd06ce0e06ad77a7f681f1a4960a3cc6          10.07\n",
      "18134  317cfc692e3f86c45c95697c61c853a6           9.59\n",
      "\n",
      "[93396 rows x 2 columns]\n"
     ]
    }
   ],
   "source": [
    "# Customer with highest orders (in payments)\n",
    "top_customers= join_data.groupby(\"customer_unique_id\")[\"payment_value\"].sum().reset_index().sort_values(\"payment_value\", ascending=False)\n",
    "print(top_customers)\n"
   ]
  },
  {
   "cell_type": "code",
   "execution_count": 9,
   "metadata": {},
   "outputs": [
    {
     "data": {
      "text/plain": [
       "Text(42000, 70, '40000 customers (about 42% of total customers) \\ncontribute to approximately 80% of total sales.')"
      ]
     },
     "execution_count": 9,
     "metadata": {},
     "output_type": "execute_result"
    },
    {
     "data": {
      "image/png": "[encoded data removed]",
      "text/plain": [
       "<Figure size 864x648 with 1 Axes>"
      ]
     },
     "metadata": {
      "needs_background": "light"
     },
     "output_type": "display_data"
    }
   ],
   "source": [
    "#Plotting\n",
    "plt.figure(figsize=(12,9))\n",
    "top_customers[\"% of Total Sales\"] = (top_customers[\"payment_value\"] / top_customers[\"payment_value\"].sum()) * 100\n",
    "top_customers[\"Cum % of Total Sales\"] = top_customers[\"% of Total Sales\"].cumsum()\n",
    "ax = sns.lineplot(x=range(1,len(top_customers)+1), y=\"Cum % of Total Sales\", data=top_customers)\n",
    "ax.set_xlabel(\"N° of Customers\")\n",
    "ax.set_title(\"% Contribution to Sales by number of customers\")\n",
    "\n",
    "#filling with color the strongest cumulative part\n",
    "a=np.arange(1,len(top_customers)+1)\n",
    "b=top_customers[\"Cum % of Total Sales\"]\n",
    "plt.fill_between(a, b, 0,\n",
    "                 where = (a >= 0) & (a <= 40000),\n",
    "                 color = 'g')\n",
    "ax.text(42000, 70, \"\"\"40000 customers (about 42% of total customers) \n",
    "contribute to approximately 80% of total sales.\"\"\", fontsize=14)\n"
   ]
  },
  {
   "cell_type": "markdown",
   "metadata": {},
   "source": [
    "#### 4.2 Who are the top customers?"
   ]
  },
  {
   "cell_type": "code",
   "execution_count": 10,
   "metadata": {},
   "outputs": [
    {
     "data": {
      "text/plain": [
       "Text(0.5, 1.0, 'Top 10 Customers by total paid')"
      ]
     },
     "execution_count": 10,
     "metadata": {},
     "output_type": "execute_result"
    },
    {
     "data": {
      "image/png": "[encoded data removed]",
      "text/plain": [
       "<Figure size 432x288 with 1 Axes>"
      ]
     },
     "metadata": {
      "needs_background": "light"
     },
     "output_type": "display_data"
    }
   ],
   "source": [
    "ax = sns.barplot(x=\"payment_value\", y=\"customer_unique_id\", data=top_customers[:10])\n",
    "ax.set_title(\"Top 10 Customers by total paid\")"
   ]
  },
  {
   "cell_type": "markdown",
   "metadata": {},
   "source": [
    "#### 4.3 Where are the customers?\n"
   ]
  },
  {
   "cell_type": "markdown",
   "metadata": {},
   "source": [
    " we want to visualize the number of customers per state. To do this, we use the countplot() function from the Seaborn library and functions from the matplotlib library to add aesthetic value."
   ]
  },
  {
   "cell_type": "code",
   "execution_count": 11,
   "metadata": {},
   "outputs": [
    {
     "data": {
      "text/plain": [
       "Text(0, 0.5, 'No. of Customers')"
      ]
     },
     "execution_count": 11,
     "metadata": {},
     "output_type": "execute_result"
    },
    {
     "data": {
      "image/png": "[encoded data removed]",
      "text/plain": [
       "<Figure size 1080x576 with 1 Axes>"
      ]
     },
     "metadata": {
      "needs_background": "light"
     },
     "output_type": "display_data"
    }
   ],
   "source": [
    "# plotting state wise customer distribution\n",
    "plt.figure(figsize=(15,8))\n",
    "sns.countplot(x='customer_state', data=join_data)\n",
    "plt.title('State Wise Customer Distribution')\n",
    "plt.xlabel('State')\n",
    "plt.ylabel('No. of Customers')"
   ]
  },
  {
   "cell_type": "markdown",
   "metadata": {},
   "source": [
    "The Geo Table comprises of the following table:\n",
    "\n",
    "- geolocation_zip_code_prefix: first 5 digits of zip code.\n",
    "- geolocation_lat: latitude\n",
    "- geolocation_lng: longitude\n",
    "- geolocation_city: city\n",
    "- geolocation_state state"
   ]
  },
  {
   "cell_type": "markdown",
   "metadata": {},
   "source": [
    "Let's now visualize the data points on a map. To do this, we use functions from the GeoPandas and Shapely libraries."
   ]
  },
  {
   "cell_type": "code",
   "execution_count": 12,
   "metadata": {},
   "outputs": [],
   "source": [
    "#geometry = [Point(xy) for xy in zip(geo['geolocation_lng'], geo['geolocation_lat'])]\n",
    "#gdf = GeoDataFrame(geo, geometry=geometry)   \n",
    "\n",
    "#world = gpd.read_file(gpd.datasets.get_path('naturalearth_lowres'))\n",
    "#gdf.plot(ax=world.plot(figsize=(10, 6)), marker='o', color='red', markersize=15);"
   ]
  },
  {
   "cell_type": "markdown",
   "metadata": {},
   "source": [
    "As we can see, most of the orders come from Brazilian cities, however, there are a few orders which come from North America, Europe, and Asia."
   ]
  },
  {
   "cell_type": "markdown",
   "metadata": {},
   "source": [
    "#### 4.4 RFM Analysis\n"
   ]
  },
  {
   "cell_type": "markdown",
   "metadata": {},
   "source": [
    "What is RFM analysis?\n",
    "\n",
    "RFM stands for recency, frequency, monetary value. In business analytics, we often use this concept to divide customers into different segments, like high-value customers, medium value customers or low-value customers, and similarly many others.\n",
    "\n",
    "Recency: How recently has the customer made a transaction with us\n",
    "\n",
    "Frequency: How frequent is the customer in ordering/buying some product from us\n",
    "\n",
    "Monetary: How much does the customer spend on purchasing products from us\n",
    "\n",
    "let’s perform the RFM analysis on our customers"
   ]
  },
  {
   "cell_type": "code",
   "execution_count": 31,
   "metadata": {},
   "outputs": [
    {
     "data": {
      "text/html": [
       "<div>\n",
       "<style scoped>\n",
       "    .dataframe tbody tr th:only-of-type {\n",
       "        vertical-align: middle;\n",
       "    }\n",
       "\n",
       "    .dataframe tbody tr th {\n",
       "        vertical-align: top;\n",
       "    }\n",
       "\n",
       "    .dataframe thead th {\n",
       "        text-align: right;\n",
       "    }\n",
       "</style>\n",
       "<table border=\"1\" class=\"dataframe\">\n",
       "  <thead>\n",
       "    <tr style=\"text-align: right;\">\n",
       "      <th></th>\n",
       "      <th>customer_unique_id</th>\n",
       "      <th>Last_purchase_date</th>\n",
       "      <th>Recency</th>\n",
       "    </tr>\n",
       "  </thead>\n",
       "  <tbody>\n",
       "    <tr>\n",
       "      <th>0</th>\n",
       "      <td>0000366f3b9a7992bf8c76cfdf3221e2</td>\n",
       "      <td>2018-05-10 10:56:27</td>\n",
       "      <td>115</td>\n",
       "    </tr>\n",
       "    <tr>\n",
       "      <th>1</th>\n",
       "      <td>0000b849f77a49e4a4ce2b2a4ca5be3f</td>\n",
       "      <td>2018-05-07 11:11:27</td>\n",
       "      <td>118</td>\n",
       "    </tr>\n",
       "    <tr>\n",
       "      <th>2</th>\n",
       "      <td>0000f46a3911fa3c0805444483337064</td>\n",
       "      <td>2017-03-10 21:05:03</td>\n",
       "      <td>541</td>\n",
       "    </tr>\n",
       "    <tr>\n",
       "      <th>3</th>\n",
       "      <td>0000f6ccb0745a6a4b88665a16c9f078</td>\n",
       "      <td>2017-10-12 20:29:41</td>\n",
       "      <td>325</td>\n",
       "    </tr>\n",
       "    <tr>\n",
       "      <th>4</th>\n",
       "      <td>0004aac84e0df4da2b147fca70cf8255</td>\n",
       "      <td>2017-11-14 19:45:42</td>\n",
       "      <td>292</td>\n",
       "    </tr>\n",
       "  </tbody>\n",
       "</table>\n",
       "</div>"
      ],
      "text/plain": [
       "                 customer_unique_id  Last_purchase_date  Recency\n",
       "0  0000366f3b9a7992bf8c76cfdf3221e2 2018-05-10 10:56:27      115\n",
       "1  0000b849f77a49e4a4ce2b2a4ca5be3f 2018-05-07 11:11:27      118\n",
       "2  0000f46a3911fa3c0805444483337064 2017-03-10 21:05:03      541\n",
       "3  0000f6ccb0745a6a4b88665a16c9f078 2017-10-12 20:29:41      325\n",
       "4  0004aac84e0df4da2b147fca70cf8255 2017-11-14 19:45:42      292"
      ]
     },
     "execution_count": 31,
     "metadata": {},
     "output_type": "execute_result"
    }
   ],
   "source": [
    "#Calculate recency\n",
    "df_recency=join_data.groupby(by=\"customer_unique_id\", as_index=False)[\"order_purchase_timestamp\"].max()\n",
    "df_recency.rename(columns={\"order_purchase_timestamp\":\"Last_purchase_date\"}, inplace=True)\n",
    "df_recency[\"Last_purchase_date\"]=pd.to_datetime(df_recency[\"Last_purchase_date\"])\n",
    "# Get recent invoice date and use it to calculate recency\n",
    "recent_date=pd.to_datetime(join_data[\"order_purchase_timestamp\"]).max()\n",
    "df_recency[\"Recency\"]=df_recency[\"Last_purchase_date\"].apply(lambda x=None: (recent_date - x).days)\n",
    "df_recency.head()"
   ]
  },
  {
   "cell_type": "code",
   "execution_count": 14,
   "metadata": {},
   "outputs": [
    {
     "data": {
      "text/html": [
       "<div>\n",
       "<style scoped>\n",
       "    .dataframe tbody tr th:only-of-type {\n",
       "        vertical-align: middle;\n",
       "    }\n",
       "\n",
       "    .dataframe tbody tr th {\n",
       "        vertical-align: top;\n",
       "    }\n",
       "\n",
       "    .dataframe thead th {\n",
       "        text-align: right;\n",
       "    }\n",
       "</style>\n",
       "<table border=\"1\" class=\"dataframe\">\n",
       "  <thead>\n",
       "    <tr style=\"text-align: right;\">\n",
       "      <th></th>\n",
       "      <th>customer_unique_id</th>\n",
       "      <th>Frequency</th>\n",
       "    </tr>\n",
       "  </thead>\n",
       "  <tbody>\n",
       "    <tr>\n",
       "      <th>0</th>\n",
       "      <td>0000366f3b9a7992bf8c76cfdf3221e2</td>\n",
       "      <td>1</td>\n",
       "    </tr>\n",
       "    <tr>\n",
       "      <th>1</th>\n",
       "      <td>0000b849f77a49e4a4ce2b2a4ca5be3f</td>\n",
       "      <td>1</td>\n",
       "    </tr>\n",
       "    <tr>\n",
       "      <th>2</th>\n",
       "      <td>0000f46a3911fa3c0805444483337064</td>\n",
       "      <td>1</td>\n",
       "    </tr>\n",
       "    <tr>\n",
       "      <th>3</th>\n",
       "      <td>0000f6ccb0745a6a4b88665a16c9f078</td>\n",
       "      <td>1</td>\n",
       "    </tr>\n",
       "    <tr>\n",
       "      <th>4</th>\n",
       "      <td>0004aac84e0df4da2b147fca70cf8255</td>\n",
       "      <td>1</td>\n",
       "    </tr>\n",
       "  </tbody>\n",
       "</table>\n",
       "</div>"
      ],
      "text/plain": [
       "                 customer_unique_id  Frequency\n",
       "0  0000366f3b9a7992bf8c76cfdf3221e2          1\n",
       "1  0000b849f77a49e4a4ce2b2a4ca5be3f          1\n",
       "2  0000f46a3911fa3c0805444483337064          1\n",
       "3  0000f6ccb0745a6a4b88665a16c9f078          1\n",
       "4  0004aac84e0df4da2b147fca70cf8255          1"
      ]
     },
     "execution_count": 14,
     "metadata": {},
     "output_type": "execute_result"
    }
   ],
   "source": [
    "# Calculating frequency\n",
    "frequency_df=join_data.groupby([\"customer_unique_id\"]).agg({\"order_id\":\"nunique\"}).reset_index() #nunique count times that a value appears\n",
    "frequency_df.rename(columns={\"order_id\":\"Frequency\"}, inplace=True)\n",
    "frequency_df.head()"
   ]
  },
  {
   "cell_type": "code",
   "execution_count": 15,
   "metadata": {},
   "outputs": [
    {
     "data": {
      "text/html": [
       "<div>\n",
       "<style scoped>\n",
       "    .dataframe tbody tr th:only-of-type {\n",
       "        vertical-align: middle;\n",
       "    }\n",
       "\n",
       "    .dataframe tbody tr th {\n",
       "        vertical-align: top;\n",
       "    }\n",
       "\n",
       "    .dataframe thead th {\n",
       "        text-align: right;\n",
       "    }\n",
       "</style>\n",
       "<table border=\"1\" class=\"dataframe\">\n",
       "  <thead>\n",
       "    <tr style=\"text-align: right;\">\n",
       "      <th></th>\n",
       "      <th>customer_unique_id</th>\n",
       "      <th>Monetary</th>\n",
       "    </tr>\n",
       "  </thead>\n",
       "  <tbody>\n",
       "    <tr>\n",
       "      <th>0</th>\n",
       "      <td>0000366f3b9a7992bf8c76cfdf3221e2</td>\n",
       "      <td>141.90</td>\n",
       "    </tr>\n",
       "    <tr>\n",
       "      <th>1</th>\n",
       "      <td>0000b849f77a49e4a4ce2b2a4ca5be3f</td>\n",
       "      <td>27.19</td>\n",
       "    </tr>\n",
       "    <tr>\n",
       "      <th>2</th>\n",
       "      <td>0000f46a3911fa3c0805444483337064</td>\n",
       "      <td>86.22</td>\n",
       "    </tr>\n",
       "    <tr>\n",
       "      <th>3</th>\n",
       "      <td>0000f6ccb0745a6a4b88665a16c9f078</td>\n",
       "      <td>43.62</td>\n",
       "    </tr>\n",
       "    <tr>\n",
       "      <th>4</th>\n",
       "      <td>0004aac84e0df4da2b147fca70cf8255</td>\n",
       "      <td>196.89</td>\n",
       "    </tr>\n",
       "  </tbody>\n",
       "</table>\n",
       "</div>"
      ],
      "text/plain": [
       "                 customer_unique_id  Monetary\n",
       "0  0000366f3b9a7992bf8c76cfdf3221e2    141.90\n",
       "1  0000b849f77a49e4a4ce2b2a4ca5be3f     27.19\n",
       "2  0000f46a3911fa3c0805444483337064     86.22\n",
       "3  0000f6ccb0745a6a4b88665a16c9f078     43.62\n",
       "4  0004aac84e0df4da2b147fca70cf8255    196.89"
      ]
     },
     "execution_count": 15,
     "metadata": {},
     "output_type": "execute_result"
    }
   ],
   "source": [
    "# Calculating monetary \n",
    "monetary_df=join_data.groupby(\"customer_unique_id\", as_index=False)[\"payment_value\"].sum()\n",
    "monetary_df.columns=[\"customer_unique_id\",\"Monetary\"]\n",
    "monetary_df.head()"
   ]
  },
  {
   "cell_type": "code",
   "execution_count": 16,
   "metadata": {},
   "outputs": [
    {
     "data": {
      "text/html": [
       "<div>\n",
       "<style scoped>\n",
       "    .dataframe tbody tr th:only-of-type {\n",
       "        vertical-align: middle;\n",
       "    }\n",
       "\n",
       "    .dataframe tbody tr th {\n",
       "        vertical-align: top;\n",
       "    }\n",
       "\n",
       "    .dataframe thead th {\n",
       "        text-align: right;\n",
       "    }\n",
       "</style>\n",
       "<table border=\"1\" class=\"dataframe\">\n",
       "  <thead>\n",
       "    <tr style=\"text-align: right;\">\n",
       "      <th></th>\n",
       "      <th>customer_unique_id</th>\n",
       "      <th>Recency</th>\n",
       "      <th>Frequency</th>\n",
       "      <th>Monetary</th>\n",
       "    </tr>\n",
       "  </thead>\n",
       "  <tbody>\n",
       "    <tr>\n",
       "      <th>0</th>\n",
       "      <td>0000366f3b9a7992bf8c76cfdf3221e2</td>\n",
       "      <td>115</td>\n",
       "      <td>1</td>\n",
       "      <td>141.90</td>\n",
       "    </tr>\n",
       "    <tr>\n",
       "      <th>1</th>\n",
       "      <td>0000b849f77a49e4a4ce2b2a4ca5be3f</td>\n",
       "      <td>118</td>\n",
       "      <td>1</td>\n",
       "      <td>27.19</td>\n",
       "    </tr>\n",
       "    <tr>\n",
       "      <th>2</th>\n",
       "      <td>0000f46a3911fa3c0805444483337064</td>\n",
       "      <td>541</td>\n",
       "      <td>1</td>\n",
       "      <td>86.22</td>\n",
       "    </tr>\n",
       "    <tr>\n",
       "      <th>3</th>\n",
       "      <td>0000f6ccb0745a6a4b88665a16c9f078</td>\n",
       "      <td>325</td>\n",
       "      <td>1</td>\n",
       "      <td>43.62</td>\n",
       "    </tr>\n",
       "    <tr>\n",
       "      <th>4</th>\n",
       "      <td>0004aac84e0df4da2b147fca70cf8255</td>\n",
       "      <td>292</td>\n",
       "      <td>1</td>\n",
       "      <td>196.89</td>\n",
       "    </tr>\n",
       "  </tbody>\n",
       "</table>\n",
       "</div>"
      ],
      "text/plain": [
       "                 customer_unique_id  Recency  Frequency  Monetary\n",
       "0  0000366f3b9a7992bf8c76cfdf3221e2      115          1    141.90\n",
       "1  0000b849f77a49e4a4ce2b2a4ca5be3f      118          1     27.19\n",
       "2  0000f46a3911fa3c0805444483337064      541          1     86.22\n",
       "3  0000f6ccb0745a6a4b88665a16c9f078      325          1     43.62\n",
       "4  0004aac84e0df4da2b147fca70cf8255      292          1    196.89"
      ]
     },
     "execution_count": 16,
     "metadata": {},
     "output_type": "execute_result"
    }
   ],
   "source": [
    "# Merging dfs\n",
    "rf_df=df_recency.merge(frequency_df, on=\"customer_unique_id\")\n",
    "rfm_df=rf_df.merge(monetary_df, on=\"customer_unique_id\").drop(columns=\"Last_purchase_date\")\n",
    "rfm_df.head()"
   ]
  },
  {
   "cell_type": "code",
   "execution_count": 17,
   "metadata": {},
   "outputs": [],
   "source": [
    "# Remove zeros from data before log trans\n",
    "rfm_df[rfm_df.columns[1:]]=rfm_df[rfm_df.columns[1:]].applymap(lambda x: 1 if x ==0 else x)\n"
   ]
  },
  {
   "cell_type": "code",
   "execution_count": 18,
   "metadata": {},
   "outputs": [],
   "source": [
    "# Running K-Means algo to cluster our data\n",
    "def check_skew(df_skew, column):\n",
    "    skew = stats.skew(df_skew[column])\n",
    "    skewtest = stats.skewtest(df_skew[column])\n",
    "    plt.title('Distribution of ' + column)\n",
    "    sns.distplot(df_skew[column])\n",
    "    plt.show()\n",
    "    print(\"{}'s: Skew: {}, : {}\".format(column, skew, skewtest))\n",
    "    return"
   ]
  },
  {
   "cell_type": "code",
   "execution_count": 19,
   "metadata": {},
   "outputs": [
    {
     "data": {
      "image/png": "[encoded data removed]",
      "text/plain": [
       "<Figure size 432x288 with 1 Axes>"
      ]
     },
     "metadata": {
      "needs_background": "light"
     },
     "output_type": "display_data"
    },
    {
     "name": "stdout",
     "output_type": "stream",
     "text": [
      "Recency's: Skew: 0.45255472888525733, : SkewtestResult(statistic=53.915411531040256, pvalue=0.0)\n"
     ]
    },
    {
     "data": {
      "image/png": "[encoded data removed]",
      "text/plain": [
       "<Figure size 432x288 with 1 Axes>"
      ]
     },
     "metadata": {
      "needs_background": "light"
     },
     "output_type": "display_data"
    },
    {
     "name": "stdout",
     "output_type": "stream",
     "text": [
      "Frequency's: Skew: 10.990942154921314, : SkewtestResult(statistic=335.6456861541721, pvalue=0.0)\n"
     ]
    },
    {
     "data": {
      "image/png": "[encoded data removed]",
      "text/plain": [
       "<Figure size 432x288 with 1 Axes>"
      ]
     },
     "metadata": {
      "needs_background": "light"
     },
     "output_type": "display_data"
    },
    {
     "name": "stdout",
     "output_type": "stream",
     "text": [
      "Monetary's: Skew: 70.33621193560055, : SkewtestResult(statistic=524.6379205104615, pvalue=0.0)\n"
     ]
    }
   ],
   "source": [
    "for col in rfm_df.columns[1:]:\n",
    "    check_skew(rfm_df, col)"
   ]
  },
  {
   "cell_type": "markdown",
   "metadata": {},
   "source": [
    "\"A skewness value greater than 1 or less than -1 indicates a highly skewed distribution. A value between 0.5 and 1 or -0.5 and -1 is moderately skewed. A value between -0.5 and 0.5 indicates that the distribution is fairly symmetrical\""
   ]
  },
  {
   "cell_type": "markdown",
   "metadata": {},
   "source": [
    "We'll log transform Frequency and Monetary as they are highly skwed."
   ]
  },
  {
   "cell_type": "code",
   "execution_count": 20,
   "metadata": {},
   "outputs": [],
   "source": [
    "# Perform log transformation \n",
    "rfm_df_log = rfm_df.copy()\n",
    "for c in rfm_df.columns[2:]:\n",
    "    rfm_df_log[c] = np.log10(rfm_df_log[c])"
   ]
  },
  {
   "cell_type": "code",
   "execution_count": 21,
   "metadata": {},
   "outputs": [
    {
     "data": {
      "image/png": "[encoded data removed]",
      "text/plain": [
       "<Figure size 432x288 with 1 Axes>"
      ]
     },
     "metadata": {
      "needs_background": "light"
     },
     "output_type": "display_data"
    },
    {
     "name": "stdout",
     "output_type": "stream",
     "text": [
      "Recency's: Skew: 0.45255472888525733, : SkewtestResult(statistic=53.915411531040256, pvalue=0.0)\n"
     ]
    },
    {
     "data": {
      "image/png": "[encoded data removed]",
      "text/plain": [
       "<Figure size 432x288 with 1 Axes>"
      ]
     },
     "metadata": {
      "needs_background": "light"
     },
     "output_type": "display_data"
    },
    {
     "name": "stdout",
     "output_type": "stream",
     "text": [
      "Frequency's: Skew: 6.068294981630156, : SkewtestResult(statistic=275.4417097222108, pvalue=0.0)\n"
     ]
    },
    {
     "data": {
      "image/png": "[encoded data removed]",
      "text/plain": [
       "<Figure size 432x288 with 1 Axes>"
      ]
     },
     "metadata": {
      "needs_background": "light"
     },
     "output_type": "display_data"
    },
    {
     "name": "stdout",
     "output_type": "stream",
     "text": [
      "Monetary's: Skew: 0.729609897634013, : SkewtestResult(statistic=81.9204555191681, pvalue=0.0)\n"
     ]
    }
   ],
   "source": [
    "for col in rfm_df.columns[1:]:\n",
    "    check_skew(rfm_df_log, col)"
   ]
  },
  {
   "cell_type": "markdown",
   "metadata": {},
   "source": [
    "Now, I'll scale the data."
   ]
  },
  {
   "cell_type": "code",
   "execution_count": 22,
   "metadata": {},
   "outputs": [],
   "source": [
    "scaler = StandardScaler()\n",
    "scaler.fit(rfm_df_log.drop(\"customer_unique_id\", axis=1))\n",
    "RFM_Table_scaled = scaler.transform(rfm_df_log.drop(\"customer_unique_id\", axis=1))\n",
    "# Put data into a df\n",
    "RFM_Table_scaled = pd.DataFrame(RFM_Table_scaled, columns=rfm_df_log.columns[1:])"
   ]
  },
  {
   "cell_type": "code",
   "execution_count": 23,
   "metadata": {},
   "outputs": [
    {
     "data": {
      "text/html": [
       "<div>\n",
       "<style scoped>\n",
       "    .dataframe tbody tr th:only-of-type {\n",
       "        vertical-align: middle;\n",
       "    }\n",
       "\n",
       "    .dataframe tbody tr th {\n",
       "        vertical-align: top;\n",
       "    }\n",
       "\n",
       "    .dataframe thead th {\n",
       "        text-align: right;\n",
       "    }\n",
       "</style>\n",
       "<table border=\"1\" class=\"dataframe\">\n",
       "  <thead>\n",
       "    <tr style=\"text-align: right;\">\n",
       "      <th></th>\n",
       "      <th>Recency</th>\n",
       "      <th>Frequency</th>\n",
       "      <th>Monetary</th>\n",
       "    </tr>\n",
       "  </thead>\n",
       "  <tbody>\n",
       "    <tr>\n",
       "      <th>0</th>\n",
       "      <td>-0.827507</td>\n",
       "      <td>-0.172439</td>\n",
       "      <td>0.164274</td>\n",
       "    </tr>\n",
       "    <tr>\n",
       "      <th>1</th>\n",
       "      <td>-0.807921</td>\n",
       "      <td>-0.172439</td>\n",
       "      <td>-1.635774</td>\n",
       "    </tr>\n",
       "    <tr>\n",
       "      <th>2</th>\n",
       "      <td>1.953827</td>\n",
       "      <td>-0.172439</td>\n",
       "      <td>-0.378506</td>\n",
       "    </tr>\n",
       "    <tr>\n",
       "      <th>3</th>\n",
       "      <td>0.543573</td>\n",
       "      <td>-0.172439</td>\n",
       "      <td>-1.120834</td>\n",
       "    </tr>\n",
       "    <tr>\n",
       "      <th>4</th>\n",
       "      <td>0.328117</td>\n",
       "      <td>-0.172439</td>\n",
       "      <td>0.521090</td>\n",
       "    </tr>\n",
       "  </tbody>\n",
       "</table>\n",
       "</div>"
      ],
      "text/plain": [
       "    Recency  Frequency  Monetary\n",
       "0 -0.827507  -0.172439  0.164274\n",
       "1 -0.807921  -0.172439 -1.635774\n",
       "2  1.953827  -0.172439 -0.378506\n",
       "3  0.543573  -0.172439 -1.120834\n",
       "4  0.328117  -0.172439  0.521090"
      ]
     },
     "execution_count": 23,
     "metadata": {},
     "output_type": "execute_result"
    }
   ],
   "source": [
    "RFM_Table_scaled.head()"
   ]
  },
  {
   "cell_type": "code",
   "execution_count": 24,
   "metadata": {},
   "outputs": [
    {
     "data": {
      "image/png": "[encoded data removed]",
      "text/plain": [
       "<Figure size 648x576 with 1 Axes>"
      ]
     },
     "metadata": {
      "needs_background": "light"
     },
     "output_type": "display_data"
    }
   ],
   "source": [
    "# Training k-means model\n",
    "\n",
    "distortions = []\n",
    "K = range(1,10)\n",
    "for k in K:\n",
    "    kmeanModel = KMeans(n_clusters=k)\n",
    "    kmeanModel.fit(RFM_Table_scaled)\n",
    "    distortions.append(kmeanModel.inertia_)\n",
    "\n",
    "plt.figure(figsize=(9,8))\n",
    "plt.plot(K, distortions, 'bx-')\n",
    "plt.xlabel('k')\n",
    "plt.ylabel('Distortion')\n",
    "plt.title('The Elbow Method showing the optimal k')\n",
    "plt.show()"
   ]
  },
  {
   "cell_type": "code",
   "execution_count": 25,
   "metadata": {},
   "outputs": [],
   "source": [
    "# Train the model on 4 clusters\n",
    "kmean_model = KMeans(n_clusters=4, random_state=5)\n",
    "kmean_y = kmean_model.fit_predict(RFM_Table_scaled)\n",
    "# Add labels to df\n",
    "rfm_df['Cluster'] = kmean_model.labels_"
   ]
  },
  {
   "cell_type": "code",
   "execution_count": 26,
   "metadata": {},
   "outputs": [],
   "source": [
    "# Function to visualize clusters\n",
    "def rfm_values(df):\n",
    "    df_new = df.groupby(['Cluster']).agg({\n",
    "            'Recency': 'mean',\n",
    "            'Frequency': 'mean',\n",
    "            'Monetary': ['mean', 'count']\n",
    "        }).round(0)\n",
    "\n",
    "    return df_new"
   ]
  },
  {
   "cell_type": "code",
   "execution_count": 27,
   "metadata": {},
   "outputs": [
    {
     "data": {
      "text/html": [
       "<div>\n",
       "<style scoped>\n",
       "    .dataframe tbody tr th:only-of-type {\n",
       "        vertical-align: middle;\n",
       "    }\n",
       "\n",
       "    .dataframe tbody tr th {\n",
       "        vertical-align: top;\n",
       "    }\n",
       "\n",
       "    .dataframe thead tr th {\n",
       "        text-align: left;\n",
       "    }\n",
       "\n",
       "    .dataframe thead tr:last-of-type th {\n",
       "        text-align: right;\n",
       "    }\n",
       "</style>\n",
       "<table border=\"1\" class=\"dataframe\">\n",
       "  <thead>\n",
       "    <tr>\n",
       "      <th></th>\n",
       "      <th>Recency</th>\n",
       "      <th>Frequency</th>\n",
       "      <th colspan=\"2\" halign=\"left\">Monetary</th>\n",
       "    </tr>\n",
       "    <tr>\n",
       "      <th></th>\n",
       "      <th>mean</th>\n",
       "      <th>mean</th>\n",
       "      <th>mean</th>\n",
       "      <th>count</th>\n",
       "    </tr>\n",
       "    <tr>\n",
       "      <th>Cluster</th>\n",
       "      <th></th>\n",
       "      <th></th>\n",
       "      <th></th>\n",
       "      <th></th>\n",
       "    </tr>\n",
       "  </thead>\n",
       "  <tbody>\n",
       "    <tr>\n",
       "      <th>0</th>\n",
       "      <td>145.0</td>\n",
       "      <td>1.0</td>\n",
       "      <td>82.0</td>\n",
       "      <td>40308</td>\n",
       "    </tr>\n",
       "    <tr>\n",
       "      <th>1</th>\n",
       "      <td>225.0</td>\n",
       "      <td>2.0</td>\n",
       "      <td>488.0</td>\n",
       "      <td>2807</td>\n",
       "    </tr>\n",
       "    <tr>\n",
       "      <th>2</th>\n",
       "      <td>425.0</td>\n",
       "      <td>1.0</td>\n",
       "      <td>124.0</td>\n",
       "      <td>27541</td>\n",
       "    </tr>\n",
       "    <tr>\n",
       "      <th>3</th>\n",
       "      <td>193.0</td>\n",
       "      <td>1.0</td>\n",
       "      <td>521.0</td>\n",
       "      <td>22740</td>\n",
       "    </tr>\n",
       "  </tbody>\n",
       "</table>\n",
       "</div>"
      ],
      "text/plain": [
       "        Recency Frequency Monetary       \n",
       "           mean      mean     mean  count\n",
       "Cluster                                  \n",
       "0         145.0       1.0     82.0  40308\n",
       "1         225.0       2.0    488.0   2807\n",
       "2         425.0       1.0    124.0  27541\n",
       "3         193.0       1.0    521.0  22740"
      ]
     },
     "execution_count": 27,
     "metadata": {},
     "output_type": "execute_result"
    }
   ],
   "source": [
    "rfm_values(rfm_df)"
   ]
  },
  {
   "cell_type": "markdown",
   "metadata": {},
   "source": [
    "The Frequency feature doesn't add that much value to the model since in our data most customers have made on average only one order (mean order per customer is 1.03). Moreover, most customers haven't ordered in a while.\n",
    "\n",
    "What does each cluster represent?\n",
    "\n",
    "Cluster 0 : This cluster can be interpreted as (Relatively New Comers/Low spenders) as their spending is the smallest among all clusters but have the lowest recency. This cluster is quite huge. So, some marketing effort could be advisable towards it in order to increase its monetary value.\n",
    "\n",
    "Cluster 1 : can be considered as our best one (Loyal customers) since although customers in this cluster haven't on avergae ordered in a while, their frequency of orders is greater than all other clusters and the value of their orders is quite high.\n",
    "\n",
    "Cluster 3 : (Lost/Low spenders) is the name we can give to this cluster. Customers in this cluster seem have one of the highest recency and their monetary value is low. This cluster shouldn't be the focus of marketing effort.\n",
    "\n",
    "Cluster 4 : This is our second best (Big spenders) cluster as it's recency comes second and the average amount spent is largest. This cluster is also second in terms of number of customers."
   ]
  },
  {
   "cell_type": "markdown",
   "metadata": {},
   "source": [
    "### 5.- Sellers Analysis"
   ]
  },
  {
   "cell_type": "markdown",
   "metadata": {},
   "source": [
    "#### 5.1 ¿Where are more sellers?"
   ]
  },
  {
   "cell_type": "code",
   "execution_count": 88,
   "metadata": {},
   "outputs": [
    {
     "name": "stdout",
     "output_type": "stream",
     "text": [
      "   seller_state  seller_id  state_proportion\n",
      "22           SP       1849         59.741519\n",
      "15           PR        349         11.276252\n",
      "8            MG        244          7.883683\n",
      "20           SC        190          6.138934\n",
      "16           RJ        171          5.525040\n",
      "19           RS        129          4.168013\n",
      "6            GO         40          1.292407\n",
      "4            DF         30          0.969305\n",
      "5            ES         23          0.743134\n",
      "2            BA         19          0.613893\n",
      "3            CE         13          0.420032\n",
      "13           PE          9          0.290792\n",
      "12           PB          6          0.193861\n",
      "9            MS          5          0.161551\n",
      "17           RN          5          0.161551\n",
      "10           MT          4          0.129241\n",
      "18           RO          2          0.064620\n",
      "21           SE          2          0.064620\n",
      "0            AC          1          0.032310\n",
      "14           PI          1          0.032310\n",
      "1            AM          1          0.032310\n",
      "7            MA          1          0.032310\n",
      "11           PA          1          0.032310\n"
     ]
    }
   ],
   "source": [
    "total_sellers=olist_sellers[\"seller_id\"].count()\n",
    "sellers_state=olist_sellers.groupby(\"seller_state\", as_index=False)[\"seller_id\"].count()\n",
    "sellers_state[\"state_proportion\"]=sellers_state[\"seller_id\"]*100/total_sellers\n",
    "sellers_state.sort_values(by=['state_proportion'], inplace=True, ascending= False)\n",
    "print(sellers_state)"
   ]
  },
  {
   "cell_type": "markdown",
   "metadata": {},
   "source": [
    "It seems SP y PR are the 2 most states with sellers, the first one has more than 59% percent of them"
   ]
  },
  {
   "cell_type": "markdown",
   "metadata": {},
   "source": [
    "#### 5.2 ¿Who are the top 10 sellers with most orders?"
   ]
  },
  {
   "cell_type": "code",
   "execution_count": 84,
   "metadata": {},
   "outputs": [
    {
     "name": "stdout",
     "output_type": "stream",
     "text": [
      "                             seller_id  order_id\n",
      "1235  6560211a19b47992c3666cc44a7e94c0      2033\n",
      "881   4a3ca9315b744ce9f8e9374361493884      1987\n",
      "368   1f50f920176fa81dab994f9023523100      1931\n",
      "2481  cc419e0650a3c5ba77189a1882b7556a      1775\n",
      "2643  da8622b14eb17ae2831f4ac5b9dab84a      1551\n",
      "1824  955fee9216a65b617aa5c0531780ce60      1499\n",
      "192   1025f0e2d44d7041d6cf58b6550e0bfa      1428\n",
      "1535  7c67e1448b00f6e969d365cea6b010ab      1364\n",
      "2836  ea8482cd71df3c1969d7b9473ff13abc      1203\n",
      "1505  7a67c85e85bb2ce8582c35f2203ad736      1171\n"
     ]
    }
   ],
   "source": [
    "seller_q=olist_order_items.groupby(\"seller_id\", as_index=False)[\"order_id\"].count()\n",
    "seller_q.sort_values(by=['order_id'], inplace=True, ascending= False)\n",
    "print(seller_q.head(10))"
   ]
  },
  {
   "cell_type": "markdown",
   "metadata": {},
   "source": [
    "#### ¿Who are the top 10 sellers with the most revenue? ¿Are the same top 10 above?"
   ]
  },
  {
   "cell_type": "code",
   "execution_count": 87,
   "metadata": {},
   "outputs": [
    {
     "name": "stdout",
     "output_type": "stream",
     "text": [
      "                             seller_id      price\n",
      "857   4869f7a5dfa277a7dca6462dcf3b52b2  229472.63\n",
      "1013  53243585a1d6dc2643021fd1853d8905  222776.05\n",
      "881   4a3ca9315b744ce9f8e9374361493884  200472.92\n",
      "3024  fa1c13f2614d7b5c4749cbc52fecda94  194042.03\n",
      "1535  7c67e1448b00f6e969d365cea6b010ab  187923.89\n",
      "1560  7e93a43ef30c4f03f38b393420bc753a  176431.87\n",
      "2643  da8622b14eb17ae2831f4ac5b9dab84a  160236.57\n",
      "1505  7a67c85e85bb2ce8582c35f2203ad736  141745.53\n",
      "192   1025f0e2d44d7041d6cf58b6550e0bfa  138968.55\n",
      "1824  955fee9216a65b617aa5c0531780ce60  135171.70\n"
     ]
    }
   ],
   "source": [
    "seller_r=olist_order_items.groupby(\"seller_id\", as_index=False)[\"price\"].sum()\n",
    "seller_r.sort_values(by=['price'], inplace=True, ascending= False)\n",
    "print(seller_r.head(10))"
   ]
  },
  {
   "cell_type": "markdown",
   "metadata": {},
   "source": [
    "That's interesting, they're not the same. But that might be obvious because maybe some sellers sold lees but their items are expensive"
   ]
  }
 ],
 "metadata": {
  "kernelspec": {
   "display_name": "Python 3.9.7 ('base')",
   "language": "python",
   "name": "python3"
  },
  "language_info": {
   "codemirror_mode": {
    "name": "ipython",
    "version": 3
   },
   "file_extension": ".py",
   "mimetype": "text/x-python",
   "name": "python",
   "nbconvert_exporter": "python",
   "pygments_lexer": "ipython3",
   "version": "3.9.7"
  },
  "orig_nbformat": 4,
  "vscode": {
   "interpreter": {
    "hash": "62e4621a12c6b3383ac037c7da48aeaaf02a2143a9292cb91881b9d0ca659f2a"
   }
  }
 },
 "nbformat": 4,
 "nbformat_minor": 2
}
